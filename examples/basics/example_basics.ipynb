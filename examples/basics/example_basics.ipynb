{
 "cells": [
  {
   "cell_type": "markdown",
   "metadata": {},
   "source": [
    "# Basic data visualization\n",
    "\n",
    "There are 3 basic steps required to visualize your data:\n",
    "\n",
    "1. Initialize a Maps-object with ``m = Maps()``\n",
    "2. Set the data and its specifications via ``m.set_data``\n",
    "3. Call ``m.plot_map()`` to generate the map!\n",
    "\n",
    "![image](/_static/example_images/example_basics.gif)\n"
   ]
  },
  {
   "cell_type": "code",
   "execution_count": null,
   "metadata": {},
   "outputs": [],
   "source": [
    "# EOmaps: A simple map\n",
    "\n",
    "from eomaps import Maps\n",
    "import pandas as pd\n",
    "import numpy as np\n",
    "\n",
    "# ----------- create some example-data\n",
    "lon, lat = np.meshgrid(np.arange(-20, 40, 0.25), np.arange(30, 60, 0.25))\n",
    "data = pd.DataFrame(\n",
    "    dict(lon=lon.flat, lat=lat.flat, data_variable=np.sqrt(lon**2 + lat**2).flat)\n",
    ")\n",
    "data = data.sample(15000)  # take 15000 random datapoints from the dataset\n",
    "# ------------------------------------\n",
    "\n",
    "m = Maps(crs=4326)\n",
    "m.add_title(\"Click on the map to pick datapoints!\")\n",
    "m.add_feature.preset.ocean()\n",
    "m.add_feature.preset.coastline()\n",
    "m.set_data(\n",
    "    data=data,  # a pandas-DataFrame holding the data & coordinates\n",
    "    parameter=\"data_variable\",  # the DataFrame-column you want to plot\n",
    "    x=\"lon\",  # the name of the DataFrame-column representing the x-coordinates\n",
    "    y=\"lat\",  # the name of the DataFrame-column representing the y-coordinates\n",
    "    crs=4326,  # the coordinate-system of the x- and y- coordinates\n",
    ")\n",
    "m.plot_map()\n",
    "m.add_colorbar(label=\"A dataset\")\n",
    "\n",
    "c = m.add_compass((0.05, 0.86), scale=7, patch=None)\n",
    "\n",
    "m.cb.pick.attach.annotate()  # attach a pick-annotation (on left-click)\n",
    "m.add_logo()  # add a logo\n",
    "m.show()"
   ]
  }
 ],
 "metadata": {
  "kernelspec": {
   "display_name": "geo",
   "language": "python",
   "name": "python3"
  },
  "language_info": {
   "codemirror_mode": {
    "name": "ipython",
    "version": 3
   },
   "file_extension": ".py",
   "mimetype": "text/x-python",
   "name": "python",
   "nbconvert_exporter": "python",
   "pygments_lexer": "ipython3",
   "version": "3.11.9"
  }
 },
 "nbformat": 4,
 "nbformat_minor": 2
}
