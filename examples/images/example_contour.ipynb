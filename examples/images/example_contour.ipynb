{
 "cells": [
  {
   "cell_type": "markdown",
   "metadata": {},
   "source": [
    "# Contour plots and Contour Levels\n",
    "\n",
    "Use the ``contour``-shape to draw contour-plots of regular (or irregular data)\n",
    "or to indicate contour-levels on top of other plots.\n",
    "\n",
    "(requires EOmaps >= v7.1)\n",
    "\n",
    "![image](/_static/example_images/example_contour.png)"
   ]
  },
  {
   "cell_type": "code",
   "execution_count": null,
   "metadata": {},
   "outputs": [],
   "source": [
    "# EOmaps example:  Contour plots and contour levels\n",
    "\n",
    "from eomaps import Maps\n",
    "import numpy as np\n",
    "\n",
    "# ------------- setup some random data\n",
    "lon, lat = np.meshgrid(np.linspace(-180, 180, 200), np.linspace(-90, 90, 100))\n",
    "data = np.sqrt(lon**2 + lat**2)\n",
    "name = \"some parameter\"\n",
    "\n",
    "# ------------- left map\n",
    "m = Maps(ax=121)\n",
    "m.add_title(\"Raster plot with contour-levels\")\n",
    "m.add_feature.preset.coastline()\n",
    "# plot raster-data\n",
    "m.set_data(data, lon, lat, parameter=name)\n",
    "m.set_shape.raster()\n",
    "m.plot_map()\n",
    "\n",
    "# layer to indicate contour-levels\n",
    "m_cont = m.new_layer(inherit_data=True)\n",
    "m_cont.set_shape.contour(filled=False)\n",
    "m_cont.set_classify.EqualInterval(k=4)\n",
    "m_cont.plot_map(colors=(\"r\", \"g\", \"b\", \"m\"))\n",
    "\n",
    "# ------------- right map\n",
    "m2 = m.new_map(ax=122, inherit_data=True)\n",
    "m2.add_title(\"Filled contour plot\")\n",
    "m2.set_classify.EqualInterval(k=4)\n",
    "m2.set_shape.contour(filled=True)\n",
    "m2.plot_map(cmap=\"viridis\")\n",
    "\n",
    "# add a colorbar and indicate contour-levels\n",
    "cb = m.add_colorbar(label=\"Data histogram with indicated contour levels highlighted.\")\n",
    "cb.indicate_contours(m_cont)\n",
    "\n",
    "# apply a customized layout\n",
    "layout = {\n",
    "    \"figsize\": [8.34, 3.9],\n",
    "    \"0_map\": [0.03652, 0.44167, 0.45, 0.48115],\n",
    "    \"1_map\": [0.51152, 0.44167, 0.45, 0.48115],\n",
    "    \"2_cb\": [-0.0125, 0.02673, 1.0125, 0.28055],\n",
    "    \"2_cb_histogram_size\": 0.76,\n",
    "}\n",
    "m.apply_layout(layout)\n",
    "m.show()"
   ]
  }
 ],
 "metadata": {
  "kernelspec": {
   "display_name": "geo",
   "language": "python",
   "name": "python3"
  },
  "language_info": {
   "codemirror_mode": {
    "name": "ipython",
    "version": 3
   },
   "file_extension": ".py",
   "mimetype": "text/x-python",
   "name": "python",
   "nbconvert_exporter": "python",
   "pygments_lexer": "ipython3",
   "version": "3.11.9"
  }
 },
 "nbformat": 4,
 "nbformat_minor": 2
}
