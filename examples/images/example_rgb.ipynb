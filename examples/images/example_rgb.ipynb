{
 "cells": [
  {
   "cell_type": "markdown",
   "metadata": {},
   "source": [
    "# Plot RGB images on a map\n",
    "To create an RGB or RGBA composite from 3 (or 4) datasets, pass the datasets as tuple:\n",
    "\n",
    "- the datasets must have the same size as the coordinate arrays!\n",
    "- the datasets must be scaled between 0 and 1\n",
    "\n",
    "If you pass a tuple of 3 or 4 arrays, they will be used to set the\n",
    "RGB (or RGBA) colors of the shapes, e.g.:\n",
    "\n",
    "- ``m.plot_map(fc=(<R-array>, <G-array>, <B-array>))``\n",
    "- ``m.plot_map(fc=(<R-array>, <G-array>, <B-array>, <A-array>))``\n",
    "\n",
    "You can fix individual color channels by passing a list with 1 element, e.g.:\n",
    "\n",
    "- ``m.plot_map(fc=(<R-array>, [0.12345], <B-array>, <A-array>))``\n",
    "\n",
    "![image](/_static/example_images/example_RGB.png)"
   ]
  },
  {
   "cell_type": "code",
   "execution_count": null,
   "metadata": {},
   "outputs": [],
   "source": [
    "from eomaps import Maps\n",
    "import numpy as np\n",
    "\n",
    "x, y = np.meshgrid(np.linspace(-30, 30, 100), np.linspace(-30, 0, 50))\n",
    "\n",
    "# values must be between 0 and 1\n",
    "r = np.random.randint(0, 100, x.shape) / 100\n",
    "g = np.random.randint(0, 100, x.shape) / 100\n",
    "b = [0.4]\n",
    "a = np.random.randint(0, 100, x.shape) / 100\n",
    "\n",
    "m = Maps(figsize=(10, 5))\n",
    "\n",
    "m.set_data(data=None, x=x, y=y)\n",
    "m.set_shape.raster()\n",
    "m.plot_map(fc=(r, g, b, a))\n",
    "## add gridlines and ticklabels\n",
    "g = m.add_gridlines(d=10, lw=1, linestyle='--', color='k')\n",
    "g.add_labels(fontsize=10)\n",
    "\n",
    "m.show()"
   ]
  }
 ],
 "metadata": {
  "kernelspec": {
   "display_name": "geo",
   "language": "python",
   "name": "python3"
  },
  "language_info": {
   "codemirror_mode": {
    "name": "ipython",
    "version": 3
   },
   "file_extension": ".py",
   "mimetype": "text/x-python",
   "name": "python",
   "nbconvert_exporter": "python",
   "pygments_lexer": "ipython3",
   "version": "3.11.9"
  }
 },
 "nbformat": 4,
 "nbformat_minor": 2
}
